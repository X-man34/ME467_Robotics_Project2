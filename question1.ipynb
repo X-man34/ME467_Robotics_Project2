{
 "cells": [
  {
   "cell_type": "markdown",
   "metadata": {},
   "source": [
    "# Question 1\n",
    "\n",
    "\n",
    "We need to use the following update equation which was derived in the project instructions. \n",
    "\n",
    "\n",
    "$$e^{\\Omega(\\omega)\\theta}=cos(\\|\\omega\\|\\theta)\\bold{I_4} + sin(\\|\\omega\\|\\theta)\\frac{\\Omega(\\omega)} {\\|\\omega\\|}$$\n"
   ]
  },
  {
   "cell_type": "code",
   "execution_count": 22,
   "metadata": {},
   "outputs": [
    {
     "name": "stdout",
     "output_type": "stream",
     "text": [
      " 0.7071 <<  0.7071,  0.0000,  0.0000 >>\n"
     ]
    },
    {
     "data": {
      "text/plain": [
       "array([[0.67088247],\n",
       "       [0.74156369],\n",
       "       [0.        ],\n",
       "       [0.        ]])"
      ]
     },
     "execution_count": 22,
     "metadata": {},
     "output_type": "execute_result"
    }
   ],
   "source": [
    "import spatialmath as sm\n",
    "from spatialmath.base import *\n",
    "import numpy as np\n",
    "\n",
    "asdf = sm.UnitQuaternion.Rx(np.pi/2)\n",
    "\n",
    "\n",
    "\n",
    "\n",
    "def updateQuaternion(original: sm.UnitQuaternion, bodyAngularVelocity: np.ndarray, deltaT: float) -> sm.UnitQuaternion:\n",
    "    \"\"\"\n",
    "    Update the quaternion representing the orientation of a body given its angular velocity.\n",
    "\n",
    "    This function computes the change in the body's orientation based on the given body angular velocity and \n",
    "    the time step (deltaT), and returns the updated orientation as a quaternion.\n",
    "\n",
    "    Parameters:\n",
    "    - original (sm.UnitQuaternion): The original quaternion representing the body's orientation.\n",
    "    - bodyAngularVelocity (np.ndarray): The angular velocity of the body in radians per second, represented as a 3D column vector.\n",
    "    - deltaT (float): The time step over which the orientation change occurs, in seconds.\n",
    "\n",
    "    Returns:\n",
    "    - sm.UnitQuaternion: The updated quaternion representing the body's new orientation.\n",
    "\n",
    "    \"\"\"\n",
    "    Omega = np.vstack((np.hstack((np.array([[0]]), -bodyAngularVelocity.T)), np.hstack((bodyAngularVelocity, -skew(bodyAngularVelocity)))))\n",
    "    normOmega = np.linalg.norm(bodyAngularVelocity)\n",
    "    theta = .5 * deltaT\n",
    "    exponent = np.cos(normOmega * theta) * np.eye(4) + np.sin(normOmega * theta) * Omega / normOmega\n",
    "\n",
    "    return exponent @ np.array(original.data).reshape(4, 1)\n",
    "\n",
    "print(asdf)\n",
    "updateQuaternion(asdf, np.array([1, 0, 0]).reshape(3,1), .1)\n",
    "\n"
   ]
  },
  {
   "cell_type": "code",
   "execution_count": null,
   "metadata": {},
   "outputs": [],
   "source": []
  }
 ],
 "metadata": {
  "kernelspec": {
   "display_name": ".venv",
   "language": "python",
   "name": "python3"
  },
  "language_info": {
   "codemirror_mode": {
    "name": "ipython",
    "version": 3
   },
   "file_extension": ".py",
   "mimetype": "text/x-python",
   "name": "python",
   "nbconvert_exporter": "python",
   "pygments_lexer": "ipython3",
   "version": "3.12.3"
  }
 },
 "nbformat": 4,
 "nbformat_minor": 2
}
