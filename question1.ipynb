{
 "cells": [
  {
   "cell_type": "markdown",
   "metadata": {},
   "source": [
    "# Question 1\n",
    "\n",
    "\n",
    "We need to use the following update equation which was derived in the project instructions. \n",
    "\n",
    "\n",
    "$$e^{\\Omega(\\omega)\\theta}=cos(\\|\\omega\\|\\theta)\\bold{I_4} + sin(\\|\\omega\\|\\theta)\\frac{\\Omega(\\omega)} {\\|\\omega\\|}$$\n"
   ]
  },
  {
   "cell_type": "code",
   "execution_count": null,
   "metadata": {},
   "outputs": [
    {
     "name": "stdout",
     "output_type": "stream",
     "text": [
      "Theta: [[ 0.70710678 -0.70710678  0.          0.        ]\n",
      " [ 0.70710678  0.70710678  0.          0.        ]\n",
      " [ 0.          0.          0.70710678  0.70710678]\n",
      " [ 0.          0.         -0.70710678  0.70710678]]\n"
     ]
    },
    {
     "ename": "ValueError",
     "evalue": "bad operands",
     "output_type": "error",
     "traceback": [
      "\u001b[31m---------------------------------------------------------------------------\u001b[39m",
      "\u001b[31mValueError\u001b[39m                                Traceback (most recent call last)",
      "\u001b[36mCell\u001b[39m\u001b[36m \u001b[39m\u001b[32mIn[44]\u001b[39m\u001b[32m, line 36\u001b[39m\n\u001b[32m     32\u001b[39m     omega = skew(bodyAngularVelocity)\n\u001b[32m     34\u001b[39m     \u001b[38;5;28;01mreturn\u001b[39;00m original * exponent\n\u001b[32m---> \u001b[39m\u001b[32m36\u001b[39m \u001b[43mupdateQuaternoion\u001b[49m\u001b[43m(\u001b[49m\u001b[43masdf\u001b[49m\u001b[43m,\u001b[49m\u001b[43m \u001b[49m\u001b[43mnp\u001b[49m\u001b[43m.\u001b[49m\u001b[43marray\u001b[49m\u001b[43m(\u001b[49m\u001b[43m[\u001b[49m\u001b[32;43m1\u001b[39;49m\u001b[43m,\u001b[49m\u001b[43m \u001b[49m\u001b[32;43m0\u001b[39;49m\u001b[43m,\u001b[49m\u001b[43m \u001b[49m\u001b[32;43m0\u001b[39;49m\u001b[43m]\u001b[49m\u001b[43m)\u001b[49m\u001b[43m.\u001b[49m\u001b[43mreshape\u001b[49m\u001b[43m(\u001b[49m\u001b[32;43m3\u001b[39;49m\u001b[43m,\u001b[49m\u001b[32;43m1\u001b[39;49m\u001b[43m)\u001b[49m\u001b[43m,\u001b[49m\u001b[43m \u001b[49m\u001b[32;43m.1\u001b[39;49m\u001b[43m)\u001b[49m\n",
      "\u001b[36mCell\u001b[39m\u001b[36m \u001b[39m\u001b[32mIn[44]\u001b[39m\u001b[32m, line 34\u001b[39m, in \u001b[36mupdateQuaternoion\u001b[39m\u001b[34m(original, bodyAngularVelocity, deltaT)\u001b[39m\n\u001b[32m     30\u001b[39m \u001b[38;5;28mprint\u001b[39m(\u001b[33m\"\u001b[39m\u001b[33mTheta: \u001b[39m\u001b[33m\"\u001b[39m + \u001b[38;5;28mstr\u001b[39m(exponent))\n\u001b[32m     32\u001b[39m omega = skew(bodyAngularVelocity)\n\u001b[32m---> \u001b[39m\u001b[32m34\u001b[39m \u001b[38;5;28;01mreturn\u001b[39;00m \u001b[43moriginal\u001b[49m\u001b[43m \u001b[49m\u001b[43m*\u001b[49m\u001b[43m \u001b[49m\u001b[43mexponent\u001b[49m\n",
      "\u001b[36mFile \u001b[39m\u001b[32mc:\\Users\\calebhottes\\Downloads\\ME467_Robotics_Project2\\.venv\\Lib\\site-packages\\spatialmath\\quaternion.py:1721\u001b[39m, in \u001b[36mUnitQuaternion.__mul__\u001b[39m\u001b[34m(left, right)\u001b[39m\n\u001b[32m   1719\u001b[39m         \u001b[38;5;28;01mreturn\u001b[39;00m np.array([smb.qvmul(left._A, x) \u001b[38;5;28;01mfor\u001b[39;00m x \u001b[38;5;129;01min\u001b[39;00m right.T]).T\n\u001b[32m   1720\u001b[39m     \u001b[38;5;28;01melse\u001b[39;00m:\n\u001b[32m-> \u001b[39m\u001b[32m1721\u001b[39m         \u001b[38;5;28;01mraise\u001b[39;00m \u001b[38;5;167;01mValueError\u001b[39;00m(\u001b[33m\"\u001b[39m\u001b[33mbad operands\u001b[39m\u001b[33m\"\u001b[39m)\n\u001b[32m   1722\u001b[39m \u001b[38;5;28;01melse\u001b[39;00m:\n\u001b[32m   1723\u001b[39m     \u001b[38;5;28;01mraise\u001b[39;00m \u001b[38;5;167;01mValueError\u001b[39;00m(\u001b[33m\"\u001b[39m\u001b[33mUnitQuaternion: operands to * are of different types\u001b[39m\u001b[33m\"\u001b[39m)\n",
      "\u001b[31mValueError\u001b[39m: bad operands"
     ]
    }
   ],
   "source": [
    "import spatialmath as sm\n",
    "from spatialmath.base import *\n",
    "import numpy as np\n",
    "\n",
    "asdf = sm.UnitQuaternion.Rx(np.pi/2)\n",
    "\n",
    "\n",
    "\n",
    "\n",
    "def updateQuaternion(original: sm.UnitQuaternion, bodyAngularVelocity: np.ndarray, deltaT: float) -> sm.UnitQuaternion:\n",
    "    \"\"\"\n",
    "    Update the quaternion representing the orientation of a body given its angular velocity.\n",
    "\n",
    "    This function computes the change in the body's orientation based on the given body angular velocity and \n",
    "    the time step (deltaT), and returns the updated orientation as a quaternion.\n",
    "\n",
    "    Parameters:\n",
    "    - original (sm.UnitQuaternion): The original quaternion representing the body's orientation.\n",
    "    - bodyAngularVelocity (np.ndarray): The angular velocity of the body in radians per second, represented as a 3D column vector.\n",
    "    - deltaT (float): The time step over which the orientation change occurs, in seconds.\n",
    "\n",
    "    Returns:\n",
    "    - sm.UnitQuaternion: The updated quaternion representing the body's new orientation.\n",
    "\n",
    "    \"\"\"\n",
    "    Omega = np.vstack((np.hstack((np.array([[0]]), -bodyAngularVelocity.T)), np.hstack((bodyAngularVelocity, -skew(bodyAngularVelocity)))))\n",
    "    theta = np.acos(original.data[0][0])\n",
    "    normOmega = np.linalg.norm(bodyAngularVelocity)\n",
    "    exponent = np.cos(normOmega * theta) * np.eye(4) + np.sin(normOmega * theta) * Omega / normOmega\n",
    "    print(\"Theta: \" + str(exponent))\n",
    "    \n",
    "    omega = skew(bodyAngularVelocity)\n",
    "\n",
    "    return original * exponent\n",
    "\n",
    "updateQuaternion(asdf, np.array([1, 0, 0]).reshape(3,1), .1)\n",
    "\n"
   ]
  },
  {
   "cell_type": "code",
   "execution_count": null,
   "metadata": {},
   "outputs": [],
   "source": []
  }
 ],
 "metadata": {
  "kernelspec": {
   "display_name": ".venv",
   "language": "python",
   "name": "python3"
  },
  "language_info": {
   "codemirror_mode": {
    "name": "ipython",
    "version": 3
   },
   "file_extension": ".py",
   "mimetype": "text/x-python",
   "name": "python",
   "nbconvert_exporter": "python",
   "pygments_lexer": "ipython3",
   "version": "3.13.2"
  }
 },
 "nbformat": 4,
 "nbformat_minor": 2
}
